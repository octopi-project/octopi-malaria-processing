{
 "cells": [
  {
   "cell_type": "code",
   "execution_count": 1,
   "id": "f297850d-cfed-48e9-8480-c6edf9cf31f9",
   "metadata": {},
   "outputs": [
    {
     "name": "stdout",
     "output_type": "stream",
     "text": [
      "Requirement already satisfied: zarr in /Users/hongquanli/miniconda3/envs/octopi/lib/python3.8/site-packages (2.10.3)\n",
      "Requirement already satisfied: numpy>=1.7 in /Users/hongquanli/miniconda3/envs/octopi/lib/python3.8/site-packages (from zarr) (1.22.1)\n",
      "Requirement already satisfied: numcodecs>=0.6.4 in /Users/hongquanli/miniconda3/envs/octopi/lib/python3.8/site-packages (from zarr) (0.9.1)\n",
      "Requirement already satisfied: fasteners in /Users/hongquanli/miniconda3/envs/octopi/lib/python3.8/site-packages (from zarr) (0.17.2)\n",
      "Requirement already satisfied: asciitree in /Users/hongquanli/miniconda3/envs/octopi/lib/python3.8/site-packages (from zarr) (0.3.3)\n"
     ]
    }
   ],
   "source": [
    "!pip install zarr"
   ]
  },
  {
   "cell_type": "code",
   "execution_count": 2,
   "id": "2a59af77-16e6-4e50-a0b6-cf2f8d6f0844",
   "metadata": {},
   "outputs": [],
   "source": [
    "import os\n",
    "from pathlib import Path\n",
    "import imageio\n",
    "\n",
    "data_dir = Path(\"./data/example_images\")\n",
    "\n",
    "file_name = \"0_0\"\n",
    "channels = [\n",
    "    \"_0_fluorescence.bmp\"\n",
    "    # \"_0_BF_LED_matrix_full.jpg\",\n",
    "    # \"_0_BF_LED_matrix_left_half.jpg\",\n",
    "    # \"_0_BF_LED_matrix_right_half.jpg\",\n",
    "    # \"_0_Fluorescence_405_nm_Ex.jpg\",\n",
    "]\n",
    "\n",
    "\n",
    "# image_bf = imageio.imread(data_dir / f\"{file_name}{channels[1]}\")\n",
    "# image_DAPI = imageio.imread(data_dir / f\"{file_name}{channels[3]}\")\n",
    "# image_DAPI.shape"
   ]
  },
  {
   "cell_type": "code",
   "execution_count": 3,
   "id": "f673797f-fa0c-400d-97eb-db6d33c2da6b",
   "metadata": {},
   "outputs": [
    {
     "name": "stdout",
     "output_type": "stream",
     "text": [
      "------\n",
      "octopi-malaria-whole-slide/zarr-test/store\n",
      "octopi-malaria-whole-slide/zarr-test/test2\n",
      "octopi-malaria-whole-slide/zarr-test/test3fluorescence_405_5x5\n",
      "octopi-malaria-whole-slide/zarr-test/test4\n",
      "octopi-malaria-whole-slide/zarr-test/test5\n",
      "------\n"
     ]
    },
    {
     "data": {
      "text/plain": [
       "(3000, 3000, 3)"
      ]
     },
     "execution_count": 3,
     "metadata": {},
     "output_type": "execute_result"
    }
   ],
   "source": [
    "import gcsfs\n",
    "import cv2\n",
    "import time\n",
    "\n",
    "# gcsfs\n",
    "print('------')\n",
    "fs = gcsfs.GCSFileSystem(project='soe-octopi',token='whole-slide-20220214-keys.json')\n",
    "# list datasets\n",
    "for folder in fs.ls('octopi-malaria-whole-slide/zarr-test'):\n",
    "\tprint(folder)\n",
    "    # pass\n",
    "print('------')\n",
    "data_dir2 = 'octopi-malaria-tanzania-2021-data/U3D_201910_2022-01-11_23-11-36.799392/0/'\n",
    "\n",
    "# access individual files\n",
    "filename = 'octopi-malaria-tanzania-2021-data/U3D_201910_2022-01-11_23-11-36.799392/0/0_0_0_Fluorescence_405_nm_Ex.bmp'\n",
    "# print(fs.ls(filename))\n",
    "img_bytes = fs.cat(filename)\n",
    "image_bf = imageio.core.asarray(imageio.imread(img_bytes, \"bmp\"))\n",
    "image_bf.shape"
   ]
  },
  {
   "cell_type": "code",
   "execution_count": 4,
   "id": "356694bd-3d54-42d6-ab79-e05117b342bb",
   "metadata": {},
   "outputs": [],
   "source": [
    "import zarr\n",
    "from imjoy_rpc import api\n",
    "from imjoy_rpc import register_default_codecs\n",
    "\n",
    "register_default_codecs()\n",
    "\n",
    "class Plugin:\n",
    "    def __init__(self, images, view_state=None):\n",
    "        if not isinstance(images, list):\n",
    "            images = [images]\n",
    "        self.images = images\n",
    "        self.view_state = view_state\n",
    "\n",
    "    async def setup(self):\n",
    "        pass\n",
    "\n",
    "    async def run(self, ctx):\n",
    "        viewer = await api.createWindow(\n",
    "            type=\"vizarr\", src=\"https://hms-dbmi.github.io/vizarr\"\n",
    "        )\n",
    "        if self.view_state:\n",
    "            await viewer.set_view_state(self.view_state)\n",
    "        for img in self.images:\n",
    "            await viewer.add_image(img)\n",
    "\n",
    "\n",
    "def run_vizarr(images, view_state=None):\n",
    "    api.export(Plugin(images, view_state))\n"
   ]
  },
  {
   "cell_type": "code",
   "execution_count": 5,
   "id": "d1bdf771-b27e-483f-82f7-50e3375c4497",
   "metadata": {},
   "outputs": [],
   "source": [
    "import zarr\n",
    "import numpy as np\n",
    "import os\n",
    "from skimage import data\n",
    "from skimage.transform import pyramid_gaussian\n",
    "\n",
    "# Modified from https://github.com/ome/ome-zarr-py/blob/master/tests/create_test_data.py\n",
    "def create_ome_zarr(img_path, img_name, dims, zarr_directory, n_layers, fs, dtype=\"f4\", gs = False): # gs = greyscale t/f, full image path = img_path + x_ + y_ + img_name\n",
    "    # store = fs.get_mapper('gs://octopi-malaria-whole-slide/zarr-test/' + zarr_directory)\n",
    "    store = zarr.DirectoryStore(zarr_directory)\n",
    "    # store = zarr.ZipStore(zarr_directory)\n",
    "    grp = zarr.group(store = store, overwrite=True)\n",
    "    paths = []\n",
    "    for path in range(n_layers+1):\n",
    "        grp.create_dataset(str(path), shape=(1, 3, 1, (3000/2**path)*dims[0], (3000/2**path)*dims[1]), dtype='f4')\n",
    "        paths.append({\"path\": str(path)})\n",
    "    print(grp.tree())\n",
    "    \n",
    "    for x in range(dims[0]):\n",
    "        for y in range(dims[1]):\n",
    "            print(x, y)\n",
    "            # image = imageio.imread(img_path / f\"{y}_{x}{img_name}\")\n",
    "            img_bytes = fs.cat(img_path + f\"{y}_{x}{img_name}\")\n",
    "            image = imageio.core.asarray(imageio.imread(img_bytes, \"bmp\"))\n",
    "            # assert image.ndim == 1\n",
    "            base = image #np.tile(image, (4, 4, 1))\n",
    "            if gs:\n",
    "                gaussian = list(pyramid_gaussian(base, downscale=2, max_layer=n_layers, channel_axis=None))\n",
    "            else:\n",
    "                gaussian = list(pyramid_gaussian(base, downscale=2, max_layer=n_layers, channel_axis=-1))\n",
    "            print(image.shape)\n",
    "            for path, pixels in enumerate(gaussian):\n",
    "                dim = int(np.around(3000/2**path))\n",
    "                # print(dim*(dims[1]-y-1), dim*(dims[1]-y)+1)\n",
    "                # print( dim*(x), dim*(x+1))\n",
    "                # print(pixels[:, :, 0].shape)\n",
    "                # print(pixels.shape)\n",
    "                if gs: # if statment for greyscale or not\n",
    "                    grp[str(path)][0,0,0, dim*(dims[1]-y-1):dim*(dims[1]-y), dim*(x):dim*(x+1)] = pixels\n",
    "                else:\n",
    "                    grp[str(path)][0,0,0, dim*(dims[1]-y-1):dim*(dims[1]-y), dim*(x):dim*(x+1)] = pixels[:,:,0]\n",
    "                    grp[str(path)][0,1,0, dim*(dims[1]-y-1):dim*(dims[1]-y), dim*(x):dim*(x+1)] = pixels[:,:,1]\n",
    "                    grp[str(path)][0,2,0, dim*(dims[1]-y-1):dim*(dims[1]-y), dim*(x):dim*(x+1)] = pixels[:,:,2]\n",
    "            # store.flush()\n",
    "            \n",
    "    if gs: #different metadate for bright field or flourecense\n",
    "        image_data = {\n",
    "            \"id\": 1,\n",
    "            \"channels\": [\n",
    "                {\n",
    "                    \"color\": \"FFFFFF\",\n",
    "                    \"window\": {\"start\": 0, \"end\": 1},\n",
    "                    \"label\": \"Brightness\",\n",
    "                    \"active\": True,\n",
    "                }\n",
    "            ],\n",
    "            \"rdefs\": {\n",
    "                \"model\": \"greyscale\",\n",
    "            },\n",
    "        }\n",
    "        \n",
    "    else:\n",
    "    \n",
    "        image_data = {\n",
    "            \"id\": 1,\n",
    "            \"channels\": [\n",
    "                {\n",
    "                    \"color\": \"FF0000\",\n",
    "                    \"window\": {\"start\": 0, \"end\": 1},\n",
    "                    \"label\": \"Red\",\n",
    "                    \"active\": True,\n",
    "                },\n",
    "                {\n",
    "                    \"color\": \"00FF00\",\n",
    "                    \"window\": {\"start\": 0, \"end\": 1},\n",
    "                    \"label\": \"Green\",\n",
    "                    \"active\": True,\n",
    "                },\n",
    "                {\n",
    "                    \"color\": \"0000FF\",\n",
    "                    \"window\": {\"start\": 0, \"end\": 1},\n",
    "                    \"label\": \"Blue\",\n",
    "                    \"active\": True,\n",
    "                },\n",
    "            ],\n",
    "            \"rdefs\": {\n",
    "                \"model\": \"color\",\n",
    "            },\n",
    "        }\n",
    "\n",
    "    multiscales = [\n",
    "        {\n",
    "            \"version\": \"0.1\",\n",
    "            \"datasets\": paths,\n",
    "        }\n",
    "    ]\n",
    "    grp.attrs[\"multiscales\"] = multiscales\n",
    "    grp.attrs[\"omero\"] = image_data\n",
    "    # store.close()\n"
   ]
  },
  {
   "cell_type": "code",
   "execution_count": 6,
   "id": "16bce402-9968-4673-bbaa-9f64aa2228b7",
   "metadata": {
    "tags": []
   },
   "outputs": [
    {
     "name": "stdout",
     "output_type": "stream",
     "text": [
      "/\n",
      " ├── 0 (1, 3, 1, 6000, 6000) float32\n",
      " ├── 1 (1, 3, 1, 3000, 3000) float32\n",
      " ├── 2 (1, 3, 1, 1500, 1500) float32\n",
      " └── 3 (1, 3, 1, 750, 750) float32\n",
      "0 0\n",
      "(3000, 3000, 3)\n",
      "0 1\n",
      "(3000, 3000, 3)\n",
      "1 0\n",
      "(3000, 3000, 3)\n",
      "1 1\n",
      "(3000, 3000, 3)\n",
      "/\n",
      " ├── 0 (1, 3, 1, 6000, 6000) float32\n",
      " ├── 1 (1, 3, 1, 3000, 3000) float32\n",
      " ├── 2 (1, 3, 1, 1500, 1500) float32\n",
      " └── 3 (1, 3, 1, 750, 750) float32\n",
      "0 0\n",
      "(3000, 3000)\n",
      "0 1\n",
      "(3000, 3000)\n",
      "1 0\n",
      "(3000, 3000)\n",
      "1 1\n",
      "(3000, 3000)\n"
     ]
    }
   ],
   "source": [
    "# Save it to /tmp/astronaut.zarr\n",
    "# create_ome_zarr(image_bf, \"./bf.zarr\")\n",
    "# create_ome_zarr(image_DAPI, \"./DAPI.zarr\")\n",
    "# create_ome_zarr(data_dir, channels[0], (2,2), \"./fluorescence.zarr\", 3)\n",
    "create_ome_zarr(data_dir2, '_0_Fluorescence_405_nm_Ex.bmp', (2,2), \"./fluorescence_405_2x2.zarr\", 3, fs)\n",
    "create_ome_zarr(data_dir2, '_0_BF_LED_matrix_low_NA.bmp', (2,2), \"./bf_low_2x2.zarr\", 3, fs, gs = True)"
   ]
  },
  {
   "cell_type": "code",
   "execution_count": 7,
   "id": "0d4a29cf-88e1-4a90-a54a-5c2bf6eac5aa",
   "metadata": {},
   "outputs": [
    {
     "data": {
      "application/javascript": [
       "window.connectPlugin && window.connectPlugin(\"89f4ba4b-442d-436a-a4b7-789df2828d47\")"
      ],
      "text/plain": [
       "<IPython.core.display.Javascript object>"
      ]
     },
     "metadata": {},
     "output_type": "display_data"
    },
    {
     "data": {
      "text/html": [
       "<div id=\"a00bc10f-46de-4bb5-baa9-f4550266e9c3\"></div>"
      ],
      "text/plain": [
       "<IPython.core.display.HTML object>"
      ]
     },
     "metadata": {},
     "output_type": "display_data"
    }
   ],
   "source": [
    "import zarr\n",
    "zarr_image_fl = zarr.open(\"./fluorescence_405_2x2.zarr\", mode=\"r\")\n",
    "zarr_image_bf = zarr.open(\"./bf_low_2x2.zarr\", mode=\"r\")\n",
    "\n",
    "zarr_fl = { \"source\": zarr_image_fl, \"name\": \"fluorescence\" }\n",
    "zarr_bf = { \"source\": zarr_image_bf, \"name\": \"bright field\" }\n",
    "\n",
    "# Run vizarr\n",
    "run_vizarr([zarr_bf,zarr_fl])\n",
    "# run_vizarr([zarr_fl])"
   ]
  },
  {
   "cell_type": "code",
   "execution_count": null,
   "id": "5e0c21f7-61c7-4e09-90a5-704a4c38e6e7",
   "metadata": {},
   "outputs": [],
   "source": []
  }
 ],
 "metadata": {
  "kernelspec": {
   "display_name": "Python 3 (ipykernel)",
   "language": "python",
   "name": "python3"
  },
  "language_info": {
   "codemirror_mode": {
    "name": "ipython",
    "version": 3
   },
   "file_extension": ".py",
   "mimetype": "text/x-python",
   "name": "python",
   "nbconvert_exporter": "python",
   "pygments_lexer": "ipython3",
   "version": "3.8.12"
  }
 },
 "nbformat": 4,
 "nbformat_minor": 5
}
